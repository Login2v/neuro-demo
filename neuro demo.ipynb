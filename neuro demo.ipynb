{
 "cells": [
  {
   "cell_type": "code",
   "execution_count": 1,
   "metadata": {},
   "outputs": [],
   "source": [
    "import torch\n",
    "import torch.nn as nn"
   ]
  },
  {
   "cell_type": "code",
   "execution_count": 2,
   "metadata": {},
   "outputs": [],
   "source": [
    "class Similarity1(nn.Module):\n",
    "    \"\"\"  \n",
    "    Класс Similarity1 - это нейронная сеть для вычисления матрицы   \n",
    "    схожести между скрытыми состояниями энкодера и декодера с использованием   \n",
    "    матричного умножения.   \n",
    "    \"\"\"  \n",
    "\n",
    "    def __init__(self):\n",
    "        super().__init__()\n",
    "\n",
    "\n",
    "    def forward(self, encoder_states: torch.Tensor, decoder_state: torch.Tensor):\n",
    "        self.encoder_states = encoder_states\n",
    "        self.decoder_state = decoder_state\n",
    "        sim_matrix = torch.matmul(self.encoder_states, self.decoder_state)\n",
    "        #sim = torch.sum(sim_matrix)\n",
    "        \n",
    "        return sim_matrix"
   ]
  },
  {
   "cell_type": "code",
   "execution_count": 30,
   "metadata": {},
   "outputs": [],
   "source": [
    "# Создание экземпляра\n",
    "n = Similarity1()"
   ]
  },
  {
   "cell_type": "code",
   "execution_count": 32,
   "metadata": {},
   "outputs": [],
   "source": [
    "# Входные данные  \n",
    "encoder_states = torch.randn(5, 3) \n",
    "decoder_state = torch.randn(3)  "
   ]
  },
  {
   "cell_type": "code",
   "execution_count": 33,
   "metadata": {},
   "outputs": [],
   "source": [
    "result  = n.forward(encoder_states, decoder_state)"
   ]
  },
  {
   "cell_type": "code",
   "execution_count": 47,
   "metadata": {},
   "outputs": [
    {
     "name": "stdout",
     "output_type": "stream",
     "text": [
      "tensor([-0.4254,  0.0376,  0.1281,  0.8485,  2.8384])\n"
     ]
    }
   ],
   "source": [
    "print(result)"
   ]
  },
  {
   "cell_type": "code",
   "execution_count": 36,
   "metadata": {},
   "outputs": [],
   "source": [
    "class Similarity2(nn.Module):\n",
    "    \"\"\"  \n",
    "    Класс Similarity2 - это нейронная сеть для вычисления схожести между   \n",
    "    скрытыми состояниями энкодера и декодера.  \n",
    "\n",
    "    Атрибуты:  \n",
    "        fc1 (nn.Linear): Преобразование входных состояний энкодера.  \n",
    "        fc2 (nn.Linear): Преобразование состояния декодера.  \n",
    "        fc3 (nn.Linear): Последнее преобразование для получения значения схожести.  \n",
    "\n",
    "    Параметры:  \n",
    "        encoder_dim (int): Размерность входных состояний энкодера.  \n",
    "        decoder_dim (int): Размерность состояния декодера.  \n",
    "        intermediate_dim (int): Размерность промежуточных слоев.  \n",
    "    \"\"\"  \n",
    "    def __init__(self, encoder_dim: int, decoder_dim: int, intermediate_dim: int):\n",
    "        super().__init__()\n",
    "\n",
    "        self.fc1 = nn.Linear(encoder_dim, intermediate_dim)\n",
    "        self.fc2 = nn.Linear(decoder_dim, intermediate_dim)\n",
    "        self.fc3 = nn.Linear(intermediate_dim, 1)\n",
    "        self.tanh = nn.Tanh()\n",
    "\n",
    "    def forward(self, encoder_states: torch.Tensor, decoder_state: torch.Tensor):\n",
    "        self.encoder_states = encoder_states\n",
    "        self.decoder_state = decoder_state\n",
    "        \n",
    "        fc1_output = self.fc1(self.encoder_states)\n",
    "        fc2_output = self.fc2(self.decoder_state)\n",
    "        tanh_output = torch.tanh(fc1_output + fc2_output)\n",
    "        sim = self.fc3(tanh_output)\n",
    "        \n",
    "        return sim"
   ]
  },
  {
   "cell_type": "code",
   "execution_count": 42,
   "metadata": {},
   "outputs": [],
   "source": [
    "# Параметры  \n",
    "encoder_dim = 128  \n",
    "decoder_dim = 64    \n",
    "intermediate_dim = 32  \n",
    "# Создание экземпляра\n",
    "n2 = Similarity2(encoder_dim, decoder_dim, intermediate_dim)"
   ]
  },
  {
   "cell_type": "code",
   "execution_count": 43,
   "metadata": {},
   "outputs": [],
   "source": [
    "# Входные данные  \n",
    "encoder_states_2 = torch.randn(5, encoder_dim)\n",
    "decoder_state_2 = torch.randn(decoder_dim) "
   ]
  },
  {
   "cell_type": "code",
   "execution_count": 44,
   "metadata": {},
   "outputs": [],
   "source": [
    "result2 = n2.forward(encoder_states_2, decoder_state_2)"
   ]
  },
  {
   "cell_type": "code",
   "execution_count": 46,
   "metadata": {},
   "outputs": [
    {
     "name": "stdout",
     "output_type": "stream",
     "text": [
      "tensor([[-0.0099],\n",
      "        [ 0.5149],\n",
      "        [ 0.5799],\n",
      "        [ 0.7376],\n",
      "        [ 0.2224]], grad_fn=<AddmmBackward0>)\n"
     ]
    }
   ],
   "source": [
    "print(result2)"
   ]
  },
  {
   "cell_type": "code",
   "execution_count": null,
   "metadata": {},
   "outputs": [],
   "source": []
  }
 ],
 "metadata": {
  "kernelspec": {
   "display_name": "base",
   "language": "python",
   "name": "python3"
  },
  "language_info": {
   "codemirror_mode": {
    "name": "ipython",
    "version": 3
   },
   "file_extension": ".py",
   "mimetype": "text/x-python",
   "name": "python",
   "nbconvert_exporter": "python",
   "pygments_lexer": "ipython3",
   "version": "3.12.4"
  }
 },
 "nbformat": 4,
 "nbformat_minor": 2
}
